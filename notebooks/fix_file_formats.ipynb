{
 "cells": [
  {
   "cell_type": "code",
   "execution_count": 1,
   "metadata": {},
   "outputs": [
    {
     "data": {
      "text/plain": [
       "['GSM4795825_REH_TK', 'GSM4795824_REH_DMSO', 'GSM4795826_REH_XR']"
      ]
     },
     "execution_count": 1,
     "metadata": {},
     "output_type": "execute_result"
    }
   ],
   "source": [
    "import pandas as pd\n",
    "import os\n",
    "os.chdir('/Users/Ali/Desktop/Mehtonen et al./GSE148218_RAW')\n",
    "files = [f for f in os.listdir() if \"REH\" in f]\n",
    "files"
   ]
  },
  {
   "cell_type": "code",
   "execution_count": 5,
   "metadata": {},
   "outputs": [
    {
     "name": "stdout",
     "output_type": "stream",
     "text": [
      "GSM4795825_REH_TK\n",
      "GSM4795825_REH_TK/barcodes.tsv.gz\n"
     ]
    }
   ],
   "source": [
    "from pathlib import Path\n",
    "folder = Path(files[0])\n",
    "print(folder)\n",
    "barcode_file = folder / \"barcodes.tsv.gz\" # str(folder + \"/barcodes.tsv.gz\")\n",
    "print(barcode_file)"
   ]
  },
  {
   "cell_type": "code",
   "execution_count": 26,
   "metadata": {},
   "outputs": [
    {
     "ename": "KeyError",
     "evalue": "\"['hg19_counts', 'mm10_counts', 'call'] not found in axis\"",
     "output_type": "error",
     "traceback": [
      "\u001b[0;31m---------------------------------------------------------------------------\u001b[0m",
      "\u001b[0;31mKeyError\u001b[0m                                  Traceback (most recent call last)",
      "Cell \u001b[0;32mIn[26], line 2\u001b[0m\n\u001b[1;32m      1\u001b[0m bc \u001b[39m=\u001b[39m pd\u001b[39m.\u001b[39mread_csv(barcode_file, sep\u001b[39m=\u001b[39m\u001b[39m\"\u001b[39m\u001b[39m\\t\u001b[39;00m\u001b[39m\"\u001b[39m)\n\u001b[0;32m----> 2\u001b[0m bc\u001b[39m.\u001b[39;49mdrop([\u001b[39m\"\u001b[39;49m\u001b[39mhg19_counts\u001b[39;49m\u001b[39m\"\u001b[39;49m, \u001b[39m\"\u001b[39;49m\u001b[39mmm10_counts\u001b[39;49m\u001b[39m\"\u001b[39;49m, \u001b[39m\"\u001b[39;49m\u001b[39mcall\u001b[39;49m\u001b[39m\"\u001b[39;49m], axis\u001b[39m=\u001b[39;49m\u001b[39m1\u001b[39;49m, inplace\u001b[39m=\u001b[39;49m\u001b[39mTrue\u001b[39;49;00m)\n\u001b[1;32m      3\u001b[0m bc\n",
      "File \u001b[0;32m~/anaconda3/envs/MEDI7281/lib/python3.11/site-packages/pandas/core/frame.py:5258\u001b[0m, in \u001b[0;36mDataFrame.drop\u001b[0;34m(self, labels, axis, index, columns, level, inplace, errors)\u001b[0m\n\u001b[1;32m   5110\u001b[0m \u001b[39mdef\u001b[39;00m \u001b[39mdrop\u001b[39m(\n\u001b[1;32m   5111\u001b[0m     \u001b[39mself\u001b[39m,\n\u001b[1;32m   5112\u001b[0m     labels: IndexLabel \u001b[39m=\u001b[39m \u001b[39mNone\u001b[39;00m,\n\u001b[0;32m   (...)\u001b[0m\n\u001b[1;32m   5119\u001b[0m     errors: IgnoreRaise \u001b[39m=\u001b[39m \u001b[39m\"\u001b[39m\u001b[39mraise\u001b[39m\u001b[39m\"\u001b[39m,\n\u001b[1;32m   5120\u001b[0m ) \u001b[39m-\u001b[39m\u001b[39m>\u001b[39m DataFrame \u001b[39m|\u001b[39m \u001b[39mNone\u001b[39;00m:\n\u001b[1;32m   5121\u001b[0m \u001b[39m    \u001b[39m\u001b[39m\"\"\"\u001b[39;00m\n\u001b[1;32m   5122\u001b[0m \u001b[39m    Drop specified labels from rows or columns.\u001b[39;00m\n\u001b[1;32m   5123\u001b[0m \n\u001b[0;32m   (...)\u001b[0m\n\u001b[1;32m   5256\u001b[0m \u001b[39m            weight  1.0     0.8\u001b[39;00m\n\u001b[1;32m   5257\u001b[0m \u001b[39m    \"\"\"\u001b[39;00m\n\u001b[0;32m-> 5258\u001b[0m     \u001b[39mreturn\u001b[39;00m \u001b[39msuper\u001b[39;49m()\u001b[39m.\u001b[39;49mdrop(\n\u001b[1;32m   5259\u001b[0m         labels\u001b[39m=\u001b[39;49mlabels,\n\u001b[1;32m   5260\u001b[0m         axis\u001b[39m=\u001b[39;49maxis,\n\u001b[1;32m   5261\u001b[0m         index\u001b[39m=\u001b[39;49mindex,\n\u001b[1;32m   5262\u001b[0m         columns\u001b[39m=\u001b[39;49mcolumns,\n\u001b[1;32m   5263\u001b[0m         level\u001b[39m=\u001b[39;49mlevel,\n\u001b[1;32m   5264\u001b[0m         inplace\u001b[39m=\u001b[39;49minplace,\n\u001b[1;32m   5265\u001b[0m         errors\u001b[39m=\u001b[39;49merrors,\n\u001b[1;32m   5266\u001b[0m     )\n",
      "File \u001b[0;32m~/anaconda3/envs/MEDI7281/lib/python3.11/site-packages/pandas/core/generic.py:4549\u001b[0m, in \u001b[0;36mNDFrame.drop\u001b[0;34m(self, labels, axis, index, columns, level, inplace, errors)\u001b[0m\n\u001b[1;32m   4547\u001b[0m \u001b[39mfor\u001b[39;00m axis, labels \u001b[39min\u001b[39;00m axes\u001b[39m.\u001b[39mitems():\n\u001b[1;32m   4548\u001b[0m     \u001b[39mif\u001b[39;00m labels \u001b[39mis\u001b[39;00m \u001b[39mnot\u001b[39;00m \u001b[39mNone\u001b[39;00m:\n\u001b[0;32m-> 4549\u001b[0m         obj \u001b[39m=\u001b[39m obj\u001b[39m.\u001b[39;49m_drop_axis(labels, axis, level\u001b[39m=\u001b[39;49mlevel, errors\u001b[39m=\u001b[39;49merrors)\n\u001b[1;32m   4551\u001b[0m \u001b[39mif\u001b[39;00m inplace:\n\u001b[1;32m   4552\u001b[0m     \u001b[39mself\u001b[39m\u001b[39m.\u001b[39m_update_inplace(obj)\n",
      "File \u001b[0;32m~/anaconda3/envs/MEDI7281/lib/python3.11/site-packages/pandas/core/generic.py:4591\u001b[0m, in \u001b[0;36mNDFrame._drop_axis\u001b[0;34m(self, labels, axis, level, errors, only_slice)\u001b[0m\n\u001b[1;32m   4589\u001b[0m         new_axis \u001b[39m=\u001b[39m axis\u001b[39m.\u001b[39mdrop(labels, level\u001b[39m=\u001b[39mlevel, errors\u001b[39m=\u001b[39merrors)\n\u001b[1;32m   4590\u001b[0m     \u001b[39melse\u001b[39;00m:\n\u001b[0;32m-> 4591\u001b[0m         new_axis \u001b[39m=\u001b[39m axis\u001b[39m.\u001b[39;49mdrop(labels, errors\u001b[39m=\u001b[39;49merrors)\n\u001b[1;32m   4592\u001b[0m     indexer \u001b[39m=\u001b[39m axis\u001b[39m.\u001b[39mget_indexer(new_axis)\n\u001b[1;32m   4594\u001b[0m \u001b[39m# Case for non-unique axis\u001b[39;00m\n\u001b[1;32m   4595\u001b[0m \u001b[39melse\u001b[39;00m:\n",
      "File \u001b[0;32m~/anaconda3/envs/MEDI7281/lib/python3.11/site-packages/pandas/core/indexes/base.py:6699\u001b[0m, in \u001b[0;36mIndex.drop\u001b[0;34m(self, labels, errors)\u001b[0m\n\u001b[1;32m   6697\u001b[0m \u001b[39mif\u001b[39;00m mask\u001b[39m.\u001b[39many():\n\u001b[1;32m   6698\u001b[0m     \u001b[39mif\u001b[39;00m errors \u001b[39m!=\u001b[39m \u001b[39m\"\u001b[39m\u001b[39mignore\u001b[39m\u001b[39m\"\u001b[39m:\n\u001b[0;32m-> 6699\u001b[0m         \u001b[39mraise\u001b[39;00m \u001b[39mKeyError\u001b[39;00m(\u001b[39mf\u001b[39m\u001b[39m\"\u001b[39m\u001b[39m{\u001b[39;00m\u001b[39mlist\u001b[39m(labels[mask])\u001b[39m}\u001b[39;00m\u001b[39m not found in axis\u001b[39m\u001b[39m\"\u001b[39m)\n\u001b[1;32m   6700\u001b[0m     indexer \u001b[39m=\u001b[39m indexer[\u001b[39m~\u001b[39mmask]\n\u001b[1;32m   6701\u001b[0m \u001b[39mreturn\u001b[39;00m \u001b[39mself\u001b[39m\u001b[39m.\u001b[39mdelete(indexer)\n",
      "\u001b[0;31mKeyError\u001b[0m: \"['hg19_counts', 'mm10_counts', 'call'] not found in axis\""
     ]
    }
   ],
   "source": [
    "bc = pd.read_csv(barcode_file, sep=\"\\t\")\n",
    "bc.drop([\"hg19_counts\", \"mm10_counts\", \"call\"], axis=1, inplace=True)\n",
    "bc"
   ]
  },
  {
   "cell_type": "code",
   "execution_count": null,
   "metadata": {},
   "outputs": [],
   "source": [
    "bc.to_csv(barcode_file, compression='gzip', header=False, index=False)"
   ]
  },
  {
   "cell_type": "code",
   "execution_count": 6,
   "metadata": {},
   "outputs": [
    {
     "name": "stdout",
     "output_type": "stream",
     "text": [
      "GSM4795825_REH_TK\n",
      "GSM4795825_REH_TK/features.tsv.gz\n"
     ]
    },
    {
     "data": {
      "text/html": [
       "<div>\n",
       "<style scoped>\n",
       "    .dataframe tbody tr th:only-of-type {\n",
       "        vertical-align: middle;\n",
       "    }\n",
       "\n",
       "    .dataframe tbody tr th {\n",
       "        vertical-align: top;\n",
       "    }\n",
       "\n",
       "    .dataframe thead th {\n",
       "        text-align: right;\n",
       "    }\n",
       "</style>\n",
       "<table border=\"1\" class=\"dataframe\">\n",
       "  <thead>\n",
       "    <tr style=\"text-align: right;\">\n",
       "      <th></th>\n",
       "      <th>Unnamed: 0</th>\n",
       "      <th>gene_ids</th>\n",
       "      <th>feature_types</th>\n",
       "      <th>genome</th>\n",
       "    </tr>\n",
       "  </thead>\n",
       "  <tbody>\n",
       "    <tr>\n",
       "      <th>0</th>\n",
       "      <td>DDX11L1</td>\n",
       "      <td>hg19_ENSG00000223972</td>\n",
       "      <td>Gene Expression</td>\n",
       "      <td>hg19</td>\n",
       "    </tr>\n",
       "    <tr>\n",
       "      <th>1</th>\n",
       "      <td>WASH7P</td>\n",
       "      <td>hg19_ENSG00000227232</td>\n",
       "      <td>Gene Expression</td>\n",
       "      <td>hg19</td>\n",
       "    </tr>\n",
       "    <tr>\n",
       "      <th>2</th>\n",
       "      <td>MIR1302-10</td>\n",
       "      <td>hg19_ENSG00000243485</td>\n",
       "      <td>Gene Expression</td>\n",
       "      <td>hg19</td>\n",
       "    </tr>\n",
       "    <tr>\n",
       "      <th>3</th>\n",
       "      <td>FAM138A</td>\n",
       "      <td>hg19_ENSG00000237613</td>\n",
       "      <td>Gene Expression</td>\n",
       "      <td>hg19</td>\n",
       "    </tr>\n",
       "    <tr>\n",
       "      <th>4</th>\n",
       "      <td>OR4G4P</td>\n",
       "      <td>hg19_ENSG00000268020</td>\n",
       "      <td>Gene Expression</td>\n",
       "      <td>hg19</td>\n",
       "    </tr>\n",
       "    <tr>\n",
       "      <th>...</th>\n",
       "      <td>...</td>\n",
       "      <td>...</td>\n",
       "      <td>...</td>\n",
       "      <td>...</td>\n",
       "    </tr>\n",
       "    <tr>\n",
       "      <th>57900</th>\n",
       "      <td>CU442762.4</td>\n",
       "      <td>hg19_ENSG00000271726</td>\n",
       "      <td>Gene Expression</td>\n",
       "      <td>hg19</td>\n",
       "    </tr>\n",
       "    <tr>\n",
       "      <th>57901</th>\n",
       "      <td>AC002321.2</td>\n",
       "      <td>hg19_ENSG00000215616</td>\n",
       "      <td>Gene Expression</td>\n",
       "      <td>hg19</td>\n",
       "    </tr>\n",
       "    <tr>\n",
       "      <th>57902</th>\n",
       "      <td>AC002321.1</td>\n",
       "      <td>hg19_ENSG00000215611</td>\n",
       "      <td>Gene Expression</td>\n",
       "      <td>hg19</td>\n",
       "    </tr>\n",
       "    <tr>\n",
       "      <th>57903</th>\n",
       "      <td>CT867977.1</td>\n",
       "      <td>hg19_ENSG00000265557</td>\n",
       "      <td>Gene Expression</td>\n",
       "      <td>hg19</td>\n",
       "    </tr>\n",
       "    <tr>\n",
       "      <th>57904</th>\n",
       "      <td>CT978678.1</td>\n",
       "      <td>hg19_ENSG00000238643</td>\n",
       "      <td>Gene Expression</td>\n",
       "      <td>hg19</td>\n",
       "    </tr>\n",
       "  </tbody>\n",
       "</table>\n",
       "<p>57905 rows × 4 columns</p>\n",
       "</div>"
      ],
      "text/plain": [
       "       Unnamed: 0              gene_ids    feature_types genome\n",
       "0         DDX11L1  hg19_ENSG00000223972  Gene Expression   hg19\n",
       "1          WASH7P  hg19_ENSG00000227232  Gene Expression   hg19\n",
       "2      MIR1302-10  hg19_ENSG00000243485  Gene Expression   hg19\n",
       "3         FAM138A  hg19_ENSG00000237613  Gene Expression   hg19\n",
       "4          OR4G4P  hg19_ENSG00000268020  Gene Expression   hg19\n",
       "...           ...                   ...              ...    ...\n",
       "57900  CU442762.4  hg19_ENSG00000271726  Gene Expression   hg19\n",
       "57901  AC002321.2  hg19_ENSG00000215616  Gene Expression   hg19\n",
       "57902  AC002321.1  hg19_ENSG00000215611  Gene Expression   hg19\n",
       "57903  CT867977.1  hg19_ENSG00000265557  Gene Expression   hg19\n",
       "57904  CT978678.1  hg19_ENSG00000238643  Gene Expression   hg19\n",
       "\n",
       "[57905 rows x 4 columns]"
      ]
     },
     "execution_count": 6,
     "metadata": {},
     "output_type": "execute_result"
    }
   ],
   "source": [
    "folder = Path(files[0])\n",
    "print(folder)\n",
    "features_file = folder / \"features.tsv.gz\"\n",
    "print(features_file)\n",
    "fc = pd.read_csv(features_file, sep=\"\\t\")\n",
    "fc"
   ]
  },
  {
   "cell_type": "code",
   "execution_count": null,
   "metadata": {},
   "outputs": [
    {
     "name": "stdout",
     "output_type": "stream",
     "text": [
      "GSM4795825_REH_TK\n",
      "GSM4795825_REH_TK/matrix.mtx.gz\n"
     ]
    },
    {
     "data": {
      "text/html": [
       "<div>\n",
       "<style scoped>\n",
       "    .dataframe tbody tr th:only-of-type {\n",
       "        vertical-align: middle;\n",
       "    }\n",
       "\n",
       "    .dataframe tbody tr th {\n",
       "        vertical-align: top;\n",
       "    }\n",
       "\n",
       "    .dataframe thead th {\n",
       "        text-align: right;\n",
       "    }\n",
       "</style>\n",
       "<table border=\"1\" class=\"dataframe\">\n",
       "  <thead>\n",
       "    <tr style=\"text-align: right;\">\n",
       "      <th></th>\n",
       "      <th>%%MatrixMarket matrix coordinate real general</th>\n",
       "    </tr>\n",
       "  </thead>\n",
       "  <tbody>\n",
       "    <tr>\n",
       "      <th>0</th>\n",
       "      <td>%</td>\n",
       "    </tr>\n",
       "    <tr>\n",
       "      <th>1</th>\n",
       "      <td>2144 57905 7495000</td>\n",
       "    </tr>\n",
       "    <tr>\n",
       "      <th>2</th>\n",
       "      <td>1 75 1.0000000e+00</td>\n",
       "    </tr>\n",
       "    <tr>\n",
       "      <th>3</th>\n",
       "      <td>1 106 1.0000000e+00</td>\n",
       "    </tr>\n",
       "    <tr>\n",
       "      <th>4</th>\n",
       "      <td>1 110 1.0000000e+00</td>\n",
       "    </tr>\n",
       "    <tr>\n",
       "      <th>...</th>\n",
       "      <td>...</td>\n",
       "    </tr>\n",
       "    <tr>\n",
       "      <th>7494997</th>\n",
       "      <td>2144 57759 6.0000000e+00</td>\n",
       "    </tr>\n",
       "    <tr>\n",
       "      <th>7494998</th>\n",
       "      <td>2144 57761 2.0000000e+00</td>\n",
       "    </tr>\n",
       "    <tr>\n",
       "      <th>7494999</th>\n",
       "      <td>2144 57771 3.0000000e+00</td>\n",
       "    </tr>\n",
       "    <tr>\n",
       "      <th>7495000</th>\n",
       "      <td>2144 57846 5.0000000e+00</td>\n",
       "    </tr>\n",
       "    <tr>\n",
       "      <th>7495001</th>\n",
       "      <td>2144 57848 4.0000000e+00</td>\n",
       "    </tr>\n",
       "  </tbody>\n",
       "</table>\n",
       "<p>7495002 rows × 1 columns</p>\n",
       "</div>"
      ],
      "text/plain": [
       "        %%MatrixMarket matrix coordinate real general\n",
       "0                                                   %\n",
       "1                                  2144 57905 7495000\n",
       "2                                  1 75 1.0000000e+00\n",
       "3                                 1 106 1.0000000e+00\n",
       "4                                 1 110 1.0000000e+00\n",
       "...                                               ...\n",
       "7494997                      2144 57759 6.0000000e+00\n",
       "7494998                      2144 57761 2.0000000e+00\n",
       "7494999                      2144 57771 3.0000000e+00\n",
       "7495000                      2144 57846 5.0000000e+00\n",
       "7495001                      2144 57848 4.0000000e+00\n",
       "\n",
       "[7495002 rows x 1 columns]"
      ]
     },
     "execution_count": 23,
     "metadata": {},
     "output_type": "execute_result"
    }
   ],
   "source": [
    "folder = Path(files[0])\n",
    "print(folder)\n",
    "matrix_file = folder / \"matrix.mtx.gz\"\n",
    "print(matrix_file)\n",
    "mx = pd.read_csv(matrix_file, sep=\"\\t\")\n",
    "mx"
   ]
  },
  {
   "cell_type": "code",
   "execution_count": 27,
   "metadata": {},
   "outputs": [
    {
     "ename": "IsADirectoryError",
     "evalue": "[Errno 21] Unable to open file (file read failed: time = Thu Jul 20 10:33:07 2023\n, filename = 'GSM4795825_REH_TK', file descriptor = 71, errno = 21, error message = 'Is a directory', buf = 0x7ff7b134d588, total read size = 8, bytes this sub-read = 8, bytes actually read = 18446744073709551615, offset = 0)",
     "output_type": "error",
     "traceback": [
      "\u001b[0;31m---------------------------------------------------------------------------\u001b[0m",
      "\u001b[0;31mIsADirectoryError\u001b[0m                         Traceback (most recent call last)",
      "Cell \u001b[0;32mIn[27], line 3\u001b[0m\n\u001b[1;32m      1\u001b[0m \u001b[39mimport\u001b[39;00m \u001b[39mscanpy\u001b[39;00m \u001b[39mas\u001b[39;00m \u001b[39msc\u001b[39;00m\n\u001b[0;32m----> 3\u001b[0m adata\u001b[39m=\u001b[39msc\u001b[39m.\u001b[39;49mread_h5ad(\u001b[39mstr\u001b[39;49m(folder))\n\u001b[1;32m      4\u001b[0m adata\n",
      "File \u001b[0;32m~/anaconda3/envs/MEDI7281/lib/python3.11/site-packages/anndata/_io/h5ad.py:219\u001b[0m, in \u001b[0;36mread_h5ad\u001b[0;34m(filename, backed, as_sparse, as_sparse_fmt, chunk_size)\u001b[0m\n\u001b[1;32m    211\u001b[0m         \u001b[39mraise\u001b[39;00m \u001b[39mNotImplementedError\u001b[39;00m(\n\u001b[1;32m    212\u001b[0m             \u001b[39m\"\u001b[39m\u001b[39mCurrently only `X` and `raw/X` can be read as sparse.\u001b[39m\u001b[39m\"\u001b[39m\n\u001b[1;32m    213\u001b[0m         )\n\u001b[1;32m    215\u001b[0m rdasp \u001b[39m=\u001b[39m partial(\n\u001b[1;32m    216\u001b[0m     read_dense_as_sparse, sparse_format\u001b[39m=\u001b[39mas_sparse_fmt, axis_chunk\u001b[39m=\u001b[39mchunk_size\n\u001b[1;32m    217\u001b[0m )\n\u001b[0;32m--> 219\u001b[0m \u001b[39mwith\u001b[39;00m h5py\u001b[39m.\u001b[39;49mFile(filename, \u001b[39m\"\u001b[39;49m\u001b[39mr\u001b[39;49m\u001b[39m\"\u001b[39;49m) \u001b[39mas\u001b[39;00m f:\n\u001b[1;32m    221\u001b[0m     \u001b[39mdef\u001b[39;00m \u001b[39mcallback\u001b[39m(func, elem_name: \u001b[39mstr\u001b[39m, elem, iospec):\n\u001b[1;32m    222\u001b[0m         \u001b[39mif\u001b[39;00m iospec\u001b[39m.\u001b[39mencoding_type \u001b[39m==\u001b[39m \u001b[39m\"\u001b[39m\u001b[39manndata\u001b[39m\u001b[39m\"\u001b[39m \u001b[39mor\u001b[39;00m elem_name\u001b[39m.\u001b[39mendswith(\u001b[39m\"\u001b[39m\u001b[39m/\u001b[39m\u001b[39m\"\u001b[39m):\n",
      "File \u001b[0;32m~/anaconda3/envs/MEDI7281/lib/python3.11/site-packages/h5py/_hl/files.py:567\u001b[0m, in \u001b[0;36mFile.__init__\u001b[0;34m(self, name, mode, driver, libver, userblock_size, swmr, rdcc_nslots, rdcc_nbytes, rdcc_w0, track_order, fs_strategy, fs_persist, fs_threshold, fs_page_size, page_buf_size, min_meta_keep, min_raw_keep, locking, alignment_threshold, alignment_interval, meta_block_size, **kwds)\u001b[0m\n\u001b[1;32m    558\u001b[0m     fapl \u001b[39m=\u001b[39m make_fapl(driver, libver, rdcc_nslots, rdcc_nbytes, rdcc_w0,\n\u001b[1;32m    559\u001b[0m                      locking, page_buf_size, min_meta_keep, min_raw_keep,\n\u001b[1;32m    560\u001b[0m                      alignment_threshold\u001b[39m=\u001b[39malignment_threshold,\n\u001b[1;32m    561\u001b[0m                      alignment_interval\u001b[39m=\u001b[39malignment_interval,\n\u001b[1;32m    562\u001b[0m                      meta_block_size\u001b[39m=\u001b[39mmeta_block_size,\n\u001b[1;32m    563\u001b[0m                      \u001b[39m*\u001b[39m\u001b[39m*\u001b[39mkwds)\n\u001b[1;32m    564\u001b[0m     fcpl \u001b[39m=\u001b[39m make_fcpl(track_order\u001b[39m=\u001b[39mtrack_order, fs_strategy\u001b[39m=\u001b[39mfs_strategy,\n\u001b[1;32m    565\u001b[0m                      fs_persist\u001b[39m=\u001b[39mfs_persist, fs_threshold\u001b[39m=\u001b[39mfs_threshold,\n\u001b[1;32m    566\u001b[0m                      fs_page_size\u001b[39m=\u001b[39mfs_page_size)\n\u001b[0;32m--> 567\u001b[0m     fid \u001b[39m=\u001b[39m make_fid(name, mode, userblock_size, fapl, fcpl, swmr\u001b[39m=\u001b[39;49mswmr)\n\u001b[1;32m    569\u001b[0m \u001b[39mif\u001b[39;00m \u001b[39misinstance\u001b[39m(libver, \u001b[39mtuple\u001b[39m):\n\u001b[1;32m    570\u001b[0m     \u001b[39mself\u001b[39m\u001b[39m.\u001b[39m_libver \u001b[39m=\u001b[39m libver\n",
      "File \u001b[0;32m~/anaconda3/envs/MEDI7281/lib/python3.11/site-packages/h5py/_hl/files.py:231\u001b[0m, in \u001b[0;36mmake_fid\u001b[0;34m(name, mode, userblock_size, fapl, fcpl, swmr)\u001b[0m\n\u001b[1;32m    229\u001b[0m     \u001b[39mif\u001b[39;00m swmr \u001b[39mand\u001b[39;00m swmr_support:\n\u001b[1;32m    230\u001b[0m         flags \u001b[39m|\u001b[39m\u001b[39m=\u001b[39m h5f\u001b[39m.\u001b[39mACC_SWMR_READ\n\u001b[0;32m--> 231\u001b[0m     fid \u001b[39m=\u001b[39m h5f\u001b[39m.\u001b[39;49mopen(name, flags, fapl\u001b[39m=\u001b[39;49mfapl)\n\u001b[1;32m    232\u001b[0m \u001b[39melif\u001b[39;00m mode \u001b[39m==\u001b[39m \u001b[39m'\u001b[39m\u001b[39mr+\u001b[39m\u001b[39m'\u001b[39m:\n\u001b[1;32m    233\u001b[0m     fid \u001b[39m=\u001b[39m h5f\u001b[39m.\u001b[39mopen(name, h5f\u001b[39m.\u001b[39mACC_RDWR, fapl\u001b[39m=\u001b[39mfapl)\n",
      "File \u001b[0;32mh5py/_objects.pyx:54\u001b[0m, in \u001b[0;36mh5py._objects.with_phil.wrapper\u001b[0;34m()\u001b[0m\n",
      "File \u001b[0;32mh5py/_objects.pyx:55\u001b[0m, in \u001b[0;36mh5py._objects.with_phil.wrapper\u001b[0;34m()\u001b[0m\n",
      "File \u001b[0;32mh5py/h5f.pyx:106\u001b[0m, in \u001b[0;36mh5py.h5f.open\u001b[0;34m()\u001b[0m\n",
      "\u001b[0;31mIsADirectoryError\u001b[0m: [Errno 21] Unable to open file (file read failed: time = Thu Jul 20 10:33:07 2023\n, filename = 'GSM4795825_REH_TK', file descriptor = 71, errno = 21, error message = 'Is a directory', buf = 0x7ff7b134d588, total read size = 8, bytes this sub-read = 8, bytes actually read = 18446744073709551615, offset = 0)"
     ]
    }
   ],
   "source": [
    "import scanpy as sc\n",
    "\n",
    "adata=sc.read_h5ad(str(folder))\n",
    "adata"
   ]
  },
  {
   "cell_type": "code",
   "execution_count": 18,
   "metadata": {},
   "outputs": [
    {
     "data": {
      "text/plain": [
       "['.DS_Store', 'features.tsv.gz', 'barcodes.tsv.gz', 'matrix.mtx.gz']"
      ]
     },
     "execution_count": 18,
     "metadata": {},
     "output_type": "execute_result"
    }
   ],
   "source": [
    "os.listdir(folder)"
   ]
  },
  {
   "cell_type": "code",
   "execution_count": 20,
   "metadata": {},
   "outputs": [],
   "source": [
    "from scipy.io import mmread\n",
    "A= mmread(Path(folder) / \"matrix.mtx.gz\")"
   ]
  },
  {
   "cell_type": "code",
   "execution_count": 21,
   "metadata": {},
   "outputs": [],
   "source": [
    "from scipy.sparse import csr_matrix"
   ]
  },
  {
   "cell_type": "code",
   "execution_count": 32,
   "metadata": {},
   "outputs": [
    {
     "data": {
      "text/plain": [
       "<2144x57905 sparse matrix of type '<class 'numpy.float64'>'\n",
       "\twith 7495000 stored elements in Compressed Sparse Row format>"
      ]
     },
     "execution_count": 32,
     "metadata": {},
     "output_type": "execute_result"
    }
   ],
   "source": [
    "csr_matrix(A)"
   ]
  },
  {
   "cell_type": "code",
   "execution_count": 23,
   "metadata": {},
   "outputs": [],
   "source": [
    "from pathlib import Path\n",
    "from scipy.io import mmread, mmwrite\n",
    "from scipy.sparse import csr_matrix\n",
    "\n",
    "\n",
    "def correct_matrix_function(foldername):\n",
    "    # first correct the barcodes so that only the barcodes remain\n",
    "    folder = Path(foldername)\n",
    "    # print(folder)\n",
    "    A = mmread(folder / \"matrix.mtx.gz\")\n",
    "    A = csr_matrix(A).T\n",
    "    mmwrite(folder / \"matrix2\", A)\n",
    "    os.system(\"gzip \" + str(folder / \"matrix2.mtx\"))"
   ]
  },
  {
   "cell_type": "code",
   "execution_count": null,
   "metadata": {},
   "outputs": [],
   "source": [
    "def correct_barcodes_function(foldername):\n",
    "    # first correct the barcodes so that only the barcodes remain\n",
    "    folder = Path(foldername)\n",
    "    # print(folder)\n",
    "    barcode_file = folder / \"barcodes.tsv.gz\"  # str(folder + \"/barcodes.tsv.gz\")\n",
    "    print(barcode_file)\n",
    "    bc = pd.read_csv(barcode_file, sep=\"\\t\")\n",
    "    try:\n",
    "        bc.drop([\"hg19_counts\", \"mm10_counts\", \"call\"], axis=1, inplace=True)\n",
    "        bc.to_csv(barcode_file, compression=\"gzip\", header=False, index=False, sep=\"\\t\")\n",
    "    except:\n",
    "        pass"
   ]
  },
  {
   "cell_type": "code",
   "execution_count": 14,
   "metadata": {},
   "outputs": [],
   "source": [
    "def correct_features_function(foldername):\n",
    "    # first correct the barcodes so that only the barcodes remain\n",
    "    folder = Path(foldername)\n",
    "    # print(folder)\n",
    "    features_file = folder / \"features.tsv.gz\"\n",
    "    print(features_file)\n",
    "    bc = pd.read_csv(features_file, sep=\"\\t\")\n",
    "    bc.to_csv(features_file, compression=\"gzip\", header=False, index=False, sep=\"\\t\")"
   ]
  },
  {
   "cell_type": "code",
   "execution_count": 38,
   "metadata": {},
   "outputs": [
    {
     "name": "stdout",
     "output_type": "stream",
     "text": [
      "GSM4795825_REH_TK/barcodes.tsv.gz\n",
      "GSM4795824_REH_DMSO/barcodes.tsv.gz\n",
      "GSM4795826_REH_XR/barcodes.tsv.gz\n"
     ]
    }
   ],
   "source": [
    "for file in files:\n",
    "    correct_barcodes_function(file)"
   ]
  },
  {
   "cell_type": "code",
   "execution_count": 15,
   "metadata": {},
   "outputs": [
    {
     "name": "stdout",
     "output_type": "stream",
     "text": [
      "GSM4795825_REH_TK/features.tsv.gz\n",
      "GSM4795824_REH_DMSO/features.tsv.gz\n",
      "GSM4795826_REH_XR/features.tsv.gz\n"
     ]
    }
   ],
   "source": [
    "for file in files:\n",
    "    correct_features_function(file)"
   ]
  },
  {
   "cell_type": "code",
   "execution_count": 24,
   "metadata": {},
   "outputs": [],
   "source": [
    "for file in files:\n",
    "    correct_matrix_function(file)"
   ]
  },
  {
   "cell_type": "code",
   "execution_count": 25,
   "metadata": {},
   "outputs": [
    {
     "data": {
      "text/plain": [
       "AnnData object with n_obs × n_vars = 2144 × 57905\n",
       "    var: 'gene_ids', 'feature_types'"
      ]
     },
     "execution_count": 25,
     "metadata": {},
     "output_type": "execute_result"
    }
   ],
   "source": [
    "\n",
    "import scanpy as sc\n",
    "folder=files[0]\n",
    "adata=sc.read_10x_mtx(str(folder))\n",
    "adata"
   ]
  },
  {
   "cell_type": "code",
   "execution_count": 26,
   "metadata": {},
   "outputs": [
    {
     "data": {
      "text/plain": [
       "AnnData object with n_obs × n_vars = 914 × 57905\n",
       "    var: 'gene_ids', 'feature_types'"
      ]
     },
     "execution_count": 26,
     "metadata": {},
     "output_type": "execute_result"
    }
   ],
   "source": [
    "folder=files[1]\n",
    "adata=sc.read_10x_mtx(str(folder))\n",
    "adata"
   ]
  },
  {
   "cell_type": "code",
   "execution_count": 27,
   "metadata": {},
   "outputs": [
    {
     "data": {
      "text/plain": [
       "AnnData object with n_obs × n_vars = 2466 × 57905\n",
       "    var: 'gene_ids', 'feature_types'"
      ]
     },
     "execution_count": 27,
     "metadata": {},
     "output_type": "execute_result"
    }
   ],
   "source": [
    "folder=files[2]\n",
    "adata=sc.read_10x_mtx(str(folder))\n",
    "adata"
   ]
  },
  {
   "cell_type": "code",
   "execution_count": 3,
   "metadata": {},
   "outputs": [],
   "source": [
    "\n",
    "features = pd.read_csv('/Users/Ali/Desktop/Caron et al./features.tsv.gz', header=None, sep='\\t')\n",
    "features[2] = \"Gene Expression\"\n",
    "features.to_csv(\"/Users/Ali/Desktop/Caron et al./features.tsv.gz\", header=False, index=False , compression = 'gzip', sep = '\\t')\n"
   ]
  },
  {
   "cell_type": "code",
   "execution_count": 5,
   "metadata": {},
   "outputs": [
    {
     "name": "stdout",
     "output_type": "stream",
     "text": [
      "scanpy==1.9.3 anndata==0.9.1 umap==0.5.3 numpy==1.23.5 scipy==1.11.1 pandas==1.5.3 scikit-learn==1.3.0 statsmodels==0.14.0 python-igraph==0.10.5 pynndescent==0.5.10\n",
      "... reading from cache file cache/Users-Ali-Desktop-Caron et al.-matrix.h5ad\n"
     ]
    }
   ],
   "source": [
    "import numpy as np\n",
    "import pandas as pd\n",
    "import scanpy as sc\n",
    "\n",
    "sc.settings.verbosity = 3             # verbosity: errors (0), warnings (1), info (2), hints (3)\n",
    "sc.logging.print_header()\n",
    "sc.settings.set_figure_params(dpi=80, facecolor='white')\n",
    "\n",
    "adata = sc.read_10x_mtx(\n",
    "    '/Users/Ali/Desktop/Caron et al.',\n",
    "    var_names='gene_symbols',                # use gene symbols for the variable names (variables-axis index)\n",
    "    cache=True)  \n"
   ]
  }
 ],
 "metadata": {
  "kernelspec": {
   "display_name": "MEDI7281",
   "language": "python",
   "name": "python3"
  },
  "language_info": {
   "codemirror_mode": {
    "name": "ipython",
    "version": 3
   },
   "file_extension": ".py",
   "mimetype": "text/x-python",
   "name": "python",
   "nbconvert_exporter": "python",
   "pygments_lexer": "ipython3",
   "version": "3.11.4"
  },
  "orig_nbformat": 4
 },
 "nbformat": 4,
 "nbformat_minor": 2
}
